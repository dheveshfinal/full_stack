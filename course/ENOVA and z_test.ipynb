{
 "cells": [
  {
   "cell_type": "code",
   "execution_count": 1,
   "id": "a62c6998-aca7-445a-a486-68a05b964c96",
   "metadata": {},
   "outputs": [],
   "source": [
    "#ANOVA(analysis of verience)is a statictics formula used to compaire variances,across the means of differece group\n",
    "#compaire variances of two or more group\n",
    "#SST total sum of the square\n",
    "#SSB sum of the square between \n",
    "#SSW sum of square within\n",
    "#degree of fredom for 3 group and 3 data in each coloum DOF is m(n-1)=3(3-1)=6\n",
    "#SST=(xi - total mean of group)^2\n",
    "#SSW=(xi - respective coloum mean)^2\n",
    "#SSB=(respective coloum mean - total mean of group)*the repetation based on (number of element) \n",
    "#we focus on how the multiple independent variables (predictors) influence or lead to differences in the mean of the dependent"
   ]
  },
  {
   "cell_type": "code",
   "execution_count": 2,
   "id": "31d3ed1f-a792-4fb0-a9f6-dee5e48a8e0b",
   "metadata": {},
   "outputs": [],
   "source": [
    "#one way anova\n",
    "#one dependent variable and independent veriable\n",
    "#two way anova is(one dependent variable and muliple independent veraible)\n"
   ]
  },
  {
   "cell_type": "code",
   "execution_count": 3,
   "id": "bc461f1e-55bf-4a82-8b09-b1e28c9020be",
   "metadata": {},
   "outputs": [
    {
     "data": {
      "text/html": [
       "<div>\n",
       "<style scoped>\n",
       "    .dataframe tbody tr th:only-of-type {\n",
       "        vertical-align: middle;\n",
       "    }\n",
       "\n",
       "    .dataframe tbody tr th {\n",
       "        vertical-align: top;\n",
       "    }\n",
       "\n",
       "    .dataframe thead th {\n",
       "        text-align: right;\n",
       "    }\n",
       "</style>\n",
       "<table border=\"1\" class=\"dataframe\">\n",
       "  <thead>\n",
       "    <tr style=\"text-align: right;\">\n",
       "      <th></th>\n",
       "      <th>index</th>\n",
       "      <th>datetime</th>\n",
       "      <th>soil_moisture</th>\n",
       "      <th>soil_temperature</th>\n",
       "      <th>ph</th>\n",
       "      <th>countour</th>\n",
       "      <th>462</th>\n",
       "      <th>466</th>\n",
       "      <th>470</th>\n",
       "      <th>474</th>\n",
       "      <th>...</th>\n",
       "      <th>914</th>\n",
       "      <th>918</th>\n",
       "      <th>922</th>\n",
       "      <th>926</th>\n",
       "      <th>930</th>\n",
       "      <th>934</th>\n",
       "      <th>938</th>\n",
       "      <th>942</th>\n",
       "      <th>946</th>\n",
       "      <th>950</th>\n",
       "    </tr>\n",
       "  </thead>\n",
       "  <tbody>\n",
       "    <tr>\n",
       "      <th>0</th>\n",
       "      <td>0</td>\n",
       "      <td>23-05-2017 14:06</td>\n",
       "      <td>33.51</td>\n",
       "      <td>34.8</td>\n",
       "      <td>0.082131</td>\n",
       "      <td>0.055863</td>\n",
       "      <td>0.050047</td>\n",
       "      <td>0.047925</td>\n",
       "      <td>0.047498</td>\n",
       "      <td>0.046464</td>\n",
       "      <td>...</td>\n",
       "      <td>0.152845</td>\n",
       "      <td>0.152615</td>\n",
       "      <td>0.152927</td>\n",
       "      <td>0.154240</td>\n",
       "      <td>0.155018</td>\n",
       "      <td>0.154725</td>\n",
       "      <td>0.154682</td>\n",
       "      <td>0.154275</td>\n",
       "      <td>0.153477</td>\n",
       "      <td>0.153929</td>\n",
       "    </tr>\n",
       "    <tr>\n",
       "      <th>1</th>\n",
       "      <td>1</td>\n",
       "      <td>23-05-2017 14:08</td>\n",
       "      <td>33.49</td>\n",
       "      <td>35.2</td>\n",
       "      <td>0.079510</td>\n",
       "      <td>0.055326</td>\n",
       "      <td>0.049116</td>\n",
       "      <td>0.047579</td>\n",
       "      <td>0.046745</td>\n",
       "      <td>0.046833</td>\n",
       "      <td>...</td>\n",
       "      <td>0.152715</td>\n",
       "      <td>0.153102</td>\n",
       "      <td>0.153551</td>\n",
       "      <td>0.153590</td>\n",
       "      <td>0.153688</td>\n",
       "      <td>0.153370</td>\n",
       "      <td>0.154021</td>\n",
       "      <td>0.155543</td>\n",
       "      <td>0.156220</td>\n",
       "      <td>0.156727</td>\n",
       "    </tr>\n",
       "    <tr>\n",
       "      <th>2</th>\n",
       "      <td>2</td>\n",
       "      <td>23-05-2017 14:10</td>\n",
       "      <td>33.46</td>\n",
       "      <td>35.4</td>\n",
       "      <td>0.080599</td>\n",
       "      <td>0.054065</td>\n",
       "      <td>0.049150</td>\n",
       "      <td>0.047537</td>\n",
       "      <td>0.046525</td>\n",
       "      <td>0.046032</td>\n",
       "      <td>...</td>\n",
       "      <td>0.152362</td>\n",
       "      <td>0.152158</td>\n",
       "      <td>0.153204</td>\n",
       "      <td>0.153942</td>\n",
       "      <td>0.154610</td>\n",
       "      <td>0.154629</td>\n",
       "      <td>0.155609</td>\n",
       "      <td>0.155545</td>\n",
       "      <td>0.154884</td>\n",
       "      <td>0.154485</td>\n",
       "    </tr>\n",
       "    <tr>\n",
       "      <th>3</th>\n",
       "      <td>3</td>\n",
       "      <td>23-05-2017 14:12</td>\n",
       "      <td>33.33</td>\n",
       "      <td>35.0</td>\n",
       "      <td>0.078024</td>\n",
       "      <td>0.054972</td>\n",
       "      <td>0.049052</td>\n",
       "      <td>0.047920</td>\n",
       "      <td>0.046883</td>\n",
       "      <td>0.046775</td>\n",
       "      <td>...</td>\n",
       "      <td>0.153281</td>\n",
       "      <td>0.153990</td>\n",
       "      <td>0.154499</td>\n",
       "      <td>0.155012</td>\n",
       "      <td>0.154691</td>\n",
       "      <td>0.154643</td>\n",
       "      <td>0.155405</td>\n",
       "      <td>0.155918</td>\n",
       "      <td>0.157645</td>\n",
       "      <td>0.157824</td>\n",
       "    </tr>\n",
       "    <tr>\n",
       "      <th>4</th>\n",
       "      <td>4</td>\n",
       "      <td>23-05-2017 14:14</td>\n",
       "      <td>33.32</td>\n",
       "      <td>35.3</td>\n",
       "      <td>0.079973</td>\n",
       "      <td>0.055335</td>\n",
       "      <td>0.049314</td>\n",
       "      <td>0.047373</td>\n",
       "      <td>0.047028</td>\n",
       "      <td>0.046963</td>\n",
       "      <td>...</td>\n",
       "      <td>0.152803</td>\n",
       "      <td>0.153085</td>\n",
       "      <td>0.153295</td>\n",
       "      <td>0.154230</td>\n",
       "      <td>0.155071</td>\n",
       "      <td>0.155624</td>\n",
       "      <td>0.156504</td>\n",
       "      <td>0.156859</td>\n",
       "      <td>0.156634</td>\n",
       "      <td>0.156176</td>\n",
       "    </tr>\n",
       "  </tbody>\n",
       "</table>\n",
       "<p>5 rows × 129 columns</p>\n",
       "</div>"
      ],
      "text/plain": [
       "   index          datetime  soil_moisture  soil_temperature        ph  \\\n",
       "0      0  23-05-2017 14:06          33.51              34.8  0.082131   \n",
       "1      1  23-05-2017 14:08          33.49              35.2  0.079510   \n",
       "2      2  23-05-2017 14:10          33.46              35.4  0.080599   \n",
       "3      3  23-05-2017 14:12          33.33              35.0  0.078024   \n",
       "4      4  23-05-2017 14:14          33.32              35.3  0.079973   \n",
       "\n",
       "   countour       462       466       470       474  ...       914       918  \\\n",
       "0  0.055863  0.050047  0.047925  0.047498  0.046464  ...  0.152845  0.152615   \n",
       "1  0.055326  0.049116  0.047579  0.046745  0.046833  ...  0.152715  0.153102   \n",
       "2  0.054065  0.049150  0.047537  0.046525  0.046032  ...  0.152362  0.152158   \n",
       "3  0.054972  0.049052  0.047920  0.046883  0.046775  ...  0.153281  0.153990   \n",
       "4  0.055335  0.049314  0.047373  0.047028  0.046963  ...  0.152803  0.153085   \n",
       "\n",
       "        922       926       930       934       938       942       946  \\\n",
       "0  0.152927  0.154240  0.155018  0.154725  0.154682  0.154275  0.153477   \n",
       "1  0.153551  0.153590  0.153688  0.153370  0.154021  0.155543  0.156220   \n",
       "2  0.153204  0.153942  0.154610  0.154629  0.155609  0.155545  0.154884   \n",
       "3  0.154499  0.155012  0.154691  0.154643  0.155405  0.155918  0.157645   \n",
       "4  0.153295  0.154230  0.155071  0.155624  0.156504  0.156859  0.156634   \n",
       "\n",
       "        950  \n",
       "0  0.153929  \n",
       "1  0.156727  \n",
       "2  0.154485  \n",
       "3  0.157824  \n",
       "4  0.156176  \n",
       "\n",
       "[5 rows x 129 columns]"
      ]
     },
     "execution_count": 3,
     "metadata": {},
     "output_type": "execute_result"
    }
   ],
   "source": [
    "import pandas as pd\n",
    "data=pd.read_csv('C:/Users/dheve/OneDrive/Desktop/course/soil.csv')\n",
    "data.head()"
   ]
  },
  {
   "cell_type": "code",
   "execution_count": 4,
   "id": "86fc7941-20f8-40c3-bb00-f7b3a9950a50",
   "metadata": {},
   "outputs": [],
   "source": [
    "#use case:H0:Soil moisture is dependent on soil temprerature and ph\n",
    "#h1:Soil moisture is not dependent on soil temprerature and ph"
   ]
  },
  {
   "cell_type": "code",
   "execution_count": 5,
   "id": "63e92064-57c0-4cdd-8afa-513614a5e13b",
   "metadata": {},
   "outputs": [
    {
     "data": {
      "text/plain": [
       "(679, 129)"
      ]
     },
     "execution_count": 5,
     "metadata": {},
     "output_type": "execute_result"
    }
   ],
   "source": [
    "data.shape"
   ]
  },
  {
   "cell_type": "code",
   "execution_count": 6,
   "id": "c2ae9275-9a0a-41bb-8486-852d25927ab5",
   "metadata": {},
   "outputs": [
    {
     "data": {
      "text/plain": [
       "<bound method DataFrame.info of      index          datetime  soil_moisture  soil_temperature        ph  \\\n",
       "0        0  23-05-2017 14:06          33.51              34.8  0.082131   \n",
       "1        1  23-05-2017 14:08          33.49              35.2  0.079510   \n",
       "2        2  23-05-2017 14:10          33.46              35.4  0.080599   \n",
       "3        3  23-05-2017 14:12          33.33              35.0  0.078024   \n",
       "4        4  23-05-2017 14:14          33.32              35.3  0.079973   \n",
       "..     ...               ...            ...               ...       ...   \n",
       "674    677  26-05-2017 14:00          29.95              40.5  0.095628   \n",
       "675    678  26-05-2017 14:02          29.85              39.5  0.095172   \n",
       "676    679  26-05-2017 14:04          29.78              39.5  0.095643   \n",
       "677    680  26-05-2017 14:06          29.90              39.5  0.095016   \n",
       "678    681  26-05-2017 14:08          29.75              39.7  0.097682   \n",
       "\n",
       "     countour       462       466       470       474  ...       914  \\\n",
       "0    0.055863  0.050047  0.047925  0.047498  0.046464  ...  0.152845   \n",
       "1    0.055326  0.049116  0.047579  0.046745  0.046833  ...  0.152715   \n",
       "2    0.054065  0.049150  0.047537  0.046525  0.046032  ...  0.152362   \n",
       "3    0.054972  0.049052  0.047920  0.046883  0.046775  ...  0.153281   \n",
       "4    0.055335  0.049314  0.047373  0.047028  0.046963  ...  0.152803   \n",
       "..        ...       ...       ...       ...       ...  ...       ...   \n",
       "674  0.063323  0.054875  0.052592  0.051657  0.050532  ...  0.163177   \n",
       "675  0.064181  0.054754  0.052329  0.051583  0.051085  ...  0.163974   \n",
       "676  0.064545  0.055754  0.052565  0.052036  0.051648  ...  0.164781   \n",
       "677  0.064233  0.055004  0.052435  0.051800  0.050964  ...  0.164162   \n",
       "678  0.065442  0.056054  0.053890  0.052824  0.051931  ...  0.165825   \n",
       "\n",
       "          918       922       926       930       934       938       942  \\\n",
       "0    0.152615  0.152927  0.154240  0.155018  0.154725  0.154682  0.154275   \n",
       "1    0.153102  0.153551  0.153590  0.153688  0.153370  0.154021  0.155543   \n",
       "2    0.152158  0.153204  0.153942  0.154610  0.154629  0.155609  0.155545   \n",
       "3    0.153990  0.154499  0.155012  0.154691  0.154643  0.155405  0.155918   \n",
       "4    0.153085  0.153295  0.154230  0.155071  0.155624  0.156504  0.156859   \n",
       "..        ...       ...       ...       ...       ...       ...       ...   \n",
       "674  0.163567  0.164741  0.164674  0.164187  0.164769  0.165175  0.165139   \n",
       "675  0.163969  0.164486  0.164360  0.164200  0.164243  0.164071  0.163975   \n",
       "676  0.165449  0.165924  0.165939  0.165627  0.164795  0.164872  0.164913   \n",
       "677  0.164828  0.165642  0.166186  0.166549  0.165808  0.165923  0.166376   \n",
       "678  0.166198  0.166590  0.167583  0.167872  0.167655  0.167314  0.166546   \n",
       "\n",
       "          946       950  \n",
       "0    0.153477  0.153929  \n",
       "1    0.156220  0.156727  \n",
       "2    0.154884  0.154485  \n",
       "3    0.157645  0.157824  \n",
       "4    0.156634  0.156176  \n",
       "..        ...       ...  \n",
       "674  0.164672  0.164568  \n",
       "675  0.164415  0.165097  \n",
       "676  0.165139  0.165224  \n",
       "677  0.166403  0.165649  \n",
       "678  0.166405  0.165966  \n",
       "\n",
       "[679 rows x 129 columns]>"
      ]
     },
     "execution_count": 6,
     "metadata": {},
     "output_type": "execute_result"
    }
   ],
   "source": [
    "data.info"
   ]
  },
  {
   "cell_type": "code",
   "execution_count": 7,
   "id": "32df1e80-687c-40dc-985e-b543aa6eaf02",
   "metadata": {},
   "outputs": [
    {
     "data": {
      "text/plain": [
       "index               0\n",
       "datetime            0\n",
       "soil_moisture       0\n",
       "soil_temperature    0\n",
       "ph                  0\n",
       "                   ..\n",
       "934                 0\n",
       "938                 0\n",
       "942                 0\n",
       "946                 0\n",
       "950                 0\n",
       "Length: 129, dtype: int64"
      ]
     },
     "execution_count": 7,
     "metadata": {},
     "output_type": "execute_result"
    }
   ],
   "source": [
    "data.isnull().sum()"
   ]
  },
  {
   "cell_type": "code",
   "execution_count": 8,
   "id": "de8daba6-35d9-43a5-b200-bdb86eb20d95",
   "metadata": {},
   "outputs": [
    {
     "data": {
      "text/plain": [
       "<statsmodels.regression.linear_model.RegressionResultsWrapper at 0x23450ac95e0>"
      ]
     },
     "execution_count": 8,
     "metadata": {},
     "output_type": "execute_result"
    }
   ],
   "source": [
    "#eda 2:bulidign model and evaluate it\n",
    "import statsmodels.api as sm\n",
    "import statsmodels.formula.api as api\n",
    "mod=api.ols('soil_moisture ~ soil_temperature',data=data).fit()\n",
    "mod"
   ]
  },
  {
   "cell_type": "code",
   "execution_count": 9,
   "id": "9977e0a9-6906-4d35-b332-a83ca94d0570",
   "metadata": {},
   "outputs": [
    {
     "data": {
      "text/html": [
       "<div>\n",
       "<style scoped>\n",
       "    .dataframe tbody tr th:only-of-type {\n",
       "        vertical-align: middle;\n",
       "    }\n",
       "\n",
       "    .dataframe tbody tr th {\n",
       "        vertical-align: top;\n",
       "    }\n",
       "\n",
       "    .dataframe thead th {\n",
       "        text-align: right;\n",
       "    }\n",
       "</style>\n",
       "<table border=\"1\" class=\"dataframe\">\n",
       "  <thead>\n",
       "    <tr style=\"text-align: right;\">\n",
       "      <th></th>\n",
       "      <th>df</th>\n",
       "      <th>sum_sq</th>\n",
       "      <th>mean_sq</th>\n",
       "      <th>F</th>\n",
       "      <th>PR(&gt;F)</th>\n",
       "    </tr>\n",
       "  </thead>\n",
       "  <tbody>\n",
       "    <tr>\n",
       "      <th>soil_temperature</th>\n",
       "      <td>1.0</td>\n",
       "      <td>5657.886682</td>\n",
       "      <td>5657.886682</td>\n",
       "      <td>1142.789524</td>\n",
       "      <td>1.675854e-147</td>\n",
       "    </tr>\n",
       "    <tr>\n",
       "      <th>Residual</th>\n",
       "      <td>677.0</td>\n",
       "      <td>3351.788937</td>\n",
       "      <td>4.950944</td>\n",
       "      <td>NaN</td>\n",
       "      <td>NaN</td>\n",
       "    </tr>\n",
       "  </tbody>\n",
       "</table>\n",
       "</div>"
      ],
      "text/plain": [
       "                     df       sum_sq      mean_sq            F         PR(>F)\n",
       "soil_temperature    1.0  5657.886682  5657.886682  1142.789524  1.675854e-147\n",
       "Residual          677.0  3351.788937     4.950944          NaN            NaN"
      ]
     },
     "execution_count": 9,
     "metadata": {},
     "output_type": "execute_result"
    }
   ],
   "source": [
    "aov=sm.stats.anova_lm(mod)\n",
    "aov"
   ]
  },
  {
   "cell_type": "code",
   "execution_count": 10,
   "id": "bf12baa5-9f07-470e-9173-78c9740407ff",
   "metadata": {},
   "outputs": [
    {
     "data": {
      "text/plain": [
       "<statsmodels.regression.linear_model.RegressionResultsWrapper at 0x23451eec470>"
      ]
     },
     "execution_count": 10,
     "metadata": {},
     "output_type": "execute_result"
    }
   ],
   "source": [
    "#for two way anova\n",
    "import statsmodels.api as sm\n",
    "import statsmodels.formula.api as api\n",
    "mod=api.ols('soil_moisture ~ soil_temperature+ph',data=data).fit()\n",
    "mod"
   ]
  },
  {
   "cell_type": "code",
   "execution_count": 11,
   "id": "754bb3e4-8635-45e5-a271-0620a8e7e6b7",
   "metadata": {},
   "outputs": [
    {
     "data": {
      "text/html": [
       "<div>\n",
       "<style scoped>\n",
       "    .dataframe tbody tr th:only-of-type {\n",
       "        vertical-align: middle;\n",
       "    }\n",
       "\n",
       "    .dataframe tbody tr th {\n",
       "        vertical-align: top;\n",
       "    }\n",
       "\n",
       "    .dataframe thead th {\n",
       "        text-align: right;\n",
       "    }\n",
       "</style>\n",
       "<table border=\"1\" class=\"dataframe\">\n",
       "  <thead>\n",
       "    <tr style=\"text-align: right;\">\n",
       "      <th></th>\n",
       "      <th>df</th>\n",
       "      <th>sum_sq</th>\n",
       "      <th>mean_sq</th>\n",
       "      <th>F</th>\n",
       "      <th>PR(&gt;F)</th>\n",
       "    </tr>\n",
       "  </thead>\n",
       "  <tbody>\n",
       "    <tr>\n",
       "      <th>soil_temperature</th>\n",
       "      <td>1.0</td>\n",
       "      <td>5657.886682</td>\n",
       "      <td>5657.886682</td>\n",
       "      <td>1307.348864</td>\n",
       "      <td>3.784973e-160</td>\n",
       "    </tr>\n",
       "    <tr>\n",
       "      <th>ph</th>\n",
       "      <td>1.0</td>\n",
       "      <td>426.225988</td>\n",
       "      <td>426.225988</td>\n",
       "      <td>98.486607</td>\n",
       "      <td>9.238778e-22</td>\n",
       "    </tr>\n",
       "    <tr>\n",
       "      <th>Residual</th>\n",
       "      <td>676.0</td>\n",
       "      <td>2925.562949</td>\n",
       "      <td>4.327756</td>\n",
       "      <td>NaN</td>\n",
       "      <td>NaN</td>\n",
       "    </tr>\n",
       "  </tbody>\n",
       "</table>\n",
       "</div>"
      ],
      "text/plain": [
       "                     df       sum_sq      mean_sq            F         PR(>F)\n",
       "soil_temperature    1.0  5657.886682  5657.886682  1307.348864  3.784973e-160\n",
       "ph                  1.0   426.225988   426.225988    98.486607   9.238778e-22\n",
       "Residual          676.0  2925.562949     4.327756          NaN            NaN"
      ]
     },
     "execution_count": 11,
     "metadata": {},
     "output_type": "execute_result"
    }
   ],
   "source": [
    "aov1=sm.stats.anova_lm(mod)\n",
    "aov1\n",
    "#m->number of group,n->number of observation\n",
    "#soil_temp and ph is indepedent and residual is the error\n",
    "#df is degree of freedom of n-1(independent) and m(n-1)(residual)\n",
    "#Sum_sq is SSB(independent) and SSW(residual)\n",
    "#mean_sq is MSB=SSB/n-1(independent) and MSW=SSW/m(n-1)(residual)\n",
    "#F=MSB/MSW\n",
    "#MSB: It captures how much the group means differ from the overall mean\n",
    "#MSW: It measures how much individual observations differ from their group mean\n",
    "#PR(>F)P-value\n",
    "#Residual is the error(how much is vering)\n",
    "#x is soil_temrature in y=mx+b\n",
    "# F<2.5 will accept\n",
    "# F>2.5 reject\n",
    "#p-value 3.78*10^-160 we reject it\n",
    "#F value give ratio between two group if null hypothsis the value is close to 1\n",
    "#F greater then 2.5 then we reject null hypothsis\n",
    "#degree of freedom:maximum number of logical indipendent value which will vary in the sample with respect to mean\n",
    "#the nth value is determine becaues x4=n*x_mean-(x1,x2,x3)\n",
    "#If the F-statistic is close to 1, it suggests that the variability between the group means is similar to the variability within the groups, implying that the group means are likely not significantly different from each other.\n",
    "#If the F-statistic is greater than the critical value, or the p-value is less than a chosen significance level (often 𝛼=0.05 α=0.05), you reject the null hypothesis\n",
    "#reject null hypothsis mean:it indicates that the variability between the group means is significantly larger than the variability within the groups"
   ]
  },
  {
   "cell_type": "markdown",
   "id": "83c6d2d0-d820-4477-8966-817c2b98f3ef",
   "metadata": {},
   "source": [
    "Chisquare test"
   ]
  },
  {
   "cell_type": "code",
   "execution_count": 12,
   "id": "57c6a7e2-b2df-4897-8ad2-488ab357266b",
   "metadata": {},
   "outputs": [],
   "source": [
    "#help to determine observed result line with expected result\n",
    "#it can be two categorical and also find the association numerical value\n",
    "#chi_square=(observed(i)-actual(i))^2/actual(i) is the difference in obsevred and actual \n",
    "#so the probablity of getting chi-square as 6 is 10% which is 0.1 is p-value(chi2 contingency table)\n"
   ]
  },
  {
   "cell_type": "code",
   "execution_count": 13,
   "id": "058eb584-af3e-43a8-8aa9-bf579372fc31",
   "metadata": {},
   "outputs": [],
   "source": [
    "# 1)sample size\n",
    "# z-smaple size are typically used when sample size is larger(more then 30 data point)\n",
    "# t-smaple size are typically used when sample size is lesser(less then 30 data point)\n",
    "# 2)standard deviation\n",
    "# z statistics are more useful when you know the standard deviation\n",
    "# t statistics are more useful when the standard deviation is unknown\n"
   ]
  },
  {
   "cell_type": "code",
   "execution_count": 15,
   "id": "24a333e0-5018-4aba-94e9-3213878d949b",
   "metadata": {},
   "outputs": [],
   "source": [
    "import numpy as np\n",
    "from scipy import stats\n",
    "sample_mean=80\n",
    "population_mean=100\n",
    "population_std=15\n",
    "sample_size=50\n",
    "alpha=0.05"
   ]
  },
  {
   "cell_type": "code",
   "execution_count": 17,
   "id": "302c500d-fdc5-4ce4-9729-ce19c2237308",
   "metadata": {},
   "outputs": [
    {
     "data": {
      "text/plain": [
       "-9.428090415820634"
      ]
     },
     "execution_count": 17,
     "metadata": {},
     "output_type": "execute_result"
    }
   ],
   "source": [
    "z_score=(sample_mean-population_mean)/(population_std/np.sqrt(sample_size))\n",
    "z_score#left skew asymmetric"
   ]
  },
  {
   "cell_type": "code",
   "execution_count": 18,
   "id": "9c39a048-4b9a-497f-b3a7-2371c5faefbf",
   "metadata": {},
   "outputs": [],
   "source": [
    "z_critical=stats.norm.ppf(1-alpha)#give how much sample mean differ from population mean\n",
    "#1-alfha give the threshold value eg(0.95) if z_score greater then that we reject the null hypothsis\n",
    "#z_critical is the edge_line(thresold)where it decide the hypothsis should reject or accept"
   ]
  },
  {
   "cell_type": "code",
   "execution_count": 19,
   "id": "2441e543-73ae-40a0-827e-95e3306a5ba1",
   "metadata": {},
   "outputs": [
    {
     "data": {
      "text/plain": [
       "1.6448536269514722"
      ]
     },
     "execution_count": 19,
     "metadata": {},
     "output_type": "execute_result"
    }
   ],
   "source": [
    "z_critical"
   ]
  },
  {
   "cell_type": "code",
   "execution_count": 21,
   "id": "cfa8a212-e413-47ac-a2f9-e2959545a638",
   "metadata": {},
   "outputs": [
    {
     "name": "stdout",
     "output_type": "stream",
     "text": [
      "accept the null hypothsis\n"
     ]
    }
   ],
   "source": [
    "if(z_score>z_critical):\n",
    "    print(\"reject the null hypothsis\")\n",
    "else:\n",
    "    print(\"accept the null hypothsis\")"
   ]
  },
  {
   "cell_type": "code",
   "execution_count": null,
   "id": "8fb2f94f-d414-4dda-83d2-8fb994ef4013",
   "metadata": {},
   "outputs": [
    {
     "data": {
      "text/plain": [
       "1.0"
      ]
     },
     "execution_count": 23,
     "metadata": {},
     "output_type": "execute_result"
    }
   ],
   "source": [
    "p_value=1-stats.norm.cdf(z_score)\n",
    "p_value#it is the probablity of the obeserving data which is consider to accept the null hypothsis "
   ]
  }
 ],
 "metadata": {
  "kernelspec": {
   "display_name": "Python 3 (ipykernel)",
   "language": "python",
   "name": "python3"
  },
  "language_info": {
   "codemirror_mode": {
    "name": "ipython",
    "version": 3
   },
   "file_extension": ".py",
   "mimetype": "text/x-python",
   "name": "python",
   "nbconvert_exporter": "python",
   "pygments_lexer": "ipython3",
   "version": "3.12.4"
  }
 },
 "nbformat": 4,
 "nbformat_minor": 5
}
