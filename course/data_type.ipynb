{
 "cells": [
  {
   "cell_type": "code",
   "execution_count": 6,
   "id": "2d41dc4a-1abd-4f67-b68a-5642b2c5e8af",
   "metadata": {},
   "outputs": [
    {
     "data": {
      "text/plain": [
       "int"
      ]
     },
     "execution_count": 6,
     "metadata": {},
     "output_type": "execute_result"
    }
   ],
   "source": [
    "x=33-12-2004;\n",
    "type(x)"
   ]
  },
  {
   "cell_type": "code",
   "execution_count": 62,
   "id": "1f292e13-a47e-4b39-9de4-490c2fbfe0fd",
   "metadata": {},
   "outputs": [
    {
     "name": "stdout",
     "output_type": "stream",
     "text": [
      "be\n",
      "tu\n",
      "yo\n",
      "tube\n"
     ]
    }
   ],
   "source": [
    "z=\"youtube\"\n",
    "x=z[5:7]\n",
    "print(x)\n",
    "x=z[3:5]\n",
    "print(x)\n",
    "x=z[0:2]\n",
    "print(x)\n",
    "print(z[-4:])"
   ]
  },
  {
   "cell_type": "code",
   "execution_count": 18,
   "id": "28e6f8a1-a15b-4973-9d7e-b09ef0e9e996",
   "metadata": {},
   "outputs": [],
   "source": []
  }
 ],
 "metadata": {
  "kernelspec": {
   "display_name": "Python 3 (ipykernel)",
   "language": "python",
   "name": "python3"
  },
  "language_info": {
   "codemirror_mode": {
    "name": "ipython",
    "version": 3
   },
   "file_extension": ".py",
   "mimetype": "text/x-python",
   "name": "python",
   "nbconvert_exporter": "python",
   "pygments_lexer": "ipython3",
   "version": "3.12.4"
  }
 },
 "nbformat": 4,
 "nbformat_minor": 5
}
